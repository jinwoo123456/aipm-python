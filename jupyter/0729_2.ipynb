{
 "cells": [
  {
   "cell_type": "code",
   "execution_count": 7,
   "metadata": {},
   "outputs": [
    {
     "ename": "NameError",
     "evalue": "name 'tf' is not defined",
     "output_type": "error",
     "traceback": [
      "\u001b[1;31m---------------------------------------------------------------------------\u001b[0m",
      "\u001b[1;31mNameError\u001b[0m                                 Traceback (most recent call last)",
      "Cell \u001b[1;32mIn[7], line 1\u001b[0m\n\u001b[1;32m----> 1\u001b[0m features \u001b[38;5;241m=\u001b[39m tf\u001b[38;5;241m.\u001b[39mlayers\u001b[38;5;241m.\u001b[39mconv2d(\n\u001b[0;32m      2\u001b[0m     features,\n\u001b[0;32m      3\u001b[0m     filters\u001b[38;5;241m=\u001b[39m\u001b[38;5;241m64\u001b[39m,\n\u001b[0;32m      4\u001b[0m     kernel_size\u001b[38;5;241m=\u001b[39m\u001b[38;5;241m3\u001b[39m,\n\u001b[0;32m      5\u001b[0m     padding\u001b[38;5;241m=\u001b[39m\u001b[38;5;124m\"\u001b[39m\u001b[38;5;124msame\u001b[39m\u001b[38;5;124m\"\u001b[39m,\n\u001b[0;32m      6\u001b[0m     name\u001b[38;5;241m=\u001b[39m\u001b[38;5;124m\"\u001b[39m\u001b[38;5;124mconv2d/1\u001b[39m\u001b[38;5;124m\"\u001b[39m)\n",
      "\u001b[1;31mNameError\u001b[0m: name 'tf' is not defined"
     ]
    }
   ],
   "source": [
    "features = tf.layers.conv2d(\n",
    "    features,\n",
    "    filters=64,\n",
    "    kernel_size=3,\n",
    "    padding=\"same\",\n",
    "    name=\"conv2d/1\")"
   ]
  },
  {
   "cell_type": "code",
   "execution_count": 3,
   "metadata": {},
   "outputs": [
    {
     "name": "stdout",
     "output_type": "stream",
     "text": [
      "Collecting konlpy\n",
      "  Downloading konlpy-0.6.0-py2.py3-none-any.whl.metadata (1.9 kB)\n",
      "Collecting JPype1>=0.7.0 (from konlpy)\n",
      "  Downloading JPype1-1.5.0-cp311-cp311-win_amd64.whl.metadata (5.0 kB)\n",
      "Requirement already satisfied: lxml>=4.1.0 in c:\\users\\kosmo\\anaconda3\\lib\\site-packages (from konlpy) (4.9.3)\n",
      "Requirement already satisfied: numpy>=1.6 in c:\\users\\kosmo\\anaconda3\\lib\\site-packages (from konlpy) (1.26.4)\n",
      "Requirement already satisfied: packaging in c:\\users\\kosmo\\anaconda3\\lib\\site-packages (from JPype1>=0.7.0->konlpy) (23.1)\n",
      "Downloading konlpy-0.6.0-py2.py3-none-any.whl (19.4 MB)\n",
      "   ---------------------------------------- 0.0/19.4 MB ? eta -:--:--\n",
      "   ---------------------------------------- 0.0/19.4 MB 660.6 kB/s eta 0:00:30\n",
      "   ---------------------------------------- 0.0/19.4 MB 495.5 kB/s eta 0:00:40\n",
      "   - -------------------------------------- 0.5/19.4 MB 3.4 MB/s eta 0:00:06\n",
      "   -- ------------------------------------- 1.4/19.4 MB 7.8 MB/s eta 0:00:03\n",
      "   --- ------------------------------------ 1.7/19.4 MB 7.3 MB/s eta 0:00:03\n",
      "   --------- ------------------------------ 4.6/19.4 MB 16.5 MB/s eta 0:00:01\n",
      "   ------------- -------------------------- 6.5/19.4 MB 19.8 MB/s eta 0:00:01\n",
      "   ------------- -------------------------- 6.8/19.4 MB 18.0 MB/s eta 0:00:01\n",
      "   ------------------ --------------------- 9.1/19.4 MB 21.6 MB/s eta 0:00:01\n",
      "   -------------------------- ------------- 13.0/19.4 MB 54.7 MB/s eta 0:00:01\n",
      "   ------------------------------- -------- 15.3/19.4 MB 50.4 MB/s eta 0:00:01\n",
      "   ------------------------------------ --- 17.9/19.4 MB 72.6 MB/s eta 0:00:01\n",
      "   ---------------------------------------  19.4/19.4 MB 73.1 MB/s eta 0:00:01\n",
      "   ---------------------------------------- 19.4/19.4 MB 50.4 MB/s eta 0:00:00\n",
      "Downloading JPype1-1.5.0-cp311-cp311-win_amd64.whl (351 kB)\n",
      "   ---------------------------------------- 0.0/351.5 kB ? eta -:--:--\n",
      "   --------------------------------------- 351.5/351.5 kB 22.8 MB/s eta 0:00:00\n",
      "Installing collected packages: JPype1, konlpy\n",
      "Successfully installed JPype1-1.5.0 konlpy-0.6.0\n"
     ]
    }
   ],
   "source": []
  }
 ],
 "metadata": {
  "kernelspec": {
   "display_name": "base",
   "language": "python",
   "name": "python3"
  },
  "language_info": {
   "codemirror_mode": {
    "name": "ipython",
    "version": 3
   },
   "file_extension": ".py",
   "mimetype": "text/x-python",
   "name": "python",
   "nbconvert_exporter": "python",
   "pygments_lexer": "ipython3",
   "version": "3.11.7"
  }
 },
 "nbformat": 4,
 "nbformat_minor": 2
}
