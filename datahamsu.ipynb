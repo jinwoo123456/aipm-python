{
 "cells": [
  {
   "cell_type": "code",
   "execution_count": 22,
   "metadata": {},
   "outputs": [
    {
     "name": "stdout",
     "output_type": "stream",
     "text": [
      "   번호_x  이름    키  번호_y   포지션\n",
      "0     1  재석  180   1.0   포워드\n",
      "1     2  종국  160   2.0  미드밀더\n",
      "2     3  하하  170   NaN   NaN\n"
     ]
    }
   ],
   "source": [
    "import pandas as pd\n",
    "df1 = pd.DataFrame(\n",
    "    [\n",
    "        [1,\"재석\",\"180\"]\n",
    "        ,[2,\"종국\",\"160\"]\n",
    "        ,[3,\"하하\",\"170\"]\n",
    "    ]\n",
    "    ,columns =[\"번호\",\"이름\",\"키\"]\n",
    ")\n",
    "\n",
    "df2 = pd.DataFrame(\n",
    "    [\n",
    "        [1,\"재석\",\"포워드\"]\n",
    "        ,[2,\"종국\",\"미드밀더\"]\n",
    "        ,[4,\"지효\",\"수비수\"]\n",
    "    ]\n",
    "    ,columns =[\"번호\",\"이름\",\"포지션\"]\n",
    ")\n",
    "\n",
    "df3 = pd.merge(\n",
    "    left=df1\n",
    "    ,right=df2\n",
    "    ,how=\"left\"\n",
    "    ,on=[\"이름\"]\n",
    ")\n",
    "\n",
    "print(df3)"
   ]
  },
  {
   "cell_type": "code",
   "execution_count": 34,
   "metadata": {},
   "outputs": [
    {
     "name": "stdout",
     "output_type": "stream",
     "text": [
      "     A  B_x    C  B_y    D\n",
      "0   a0   b0   c0  NaN  NaN\n",
      "1   a1   b1   c1   b1   c1\n",
      "2   a2   b2   c2  NaN  NaN\n",
      "3  aa0  NaN  NaN   b0  cc0\n"
     ]
    }
   ],
   "source": [
    "import pandas as pd\n",
    "df1 = pd.DataFrame(\n",
    "    [\n",
    "        [\"a0\",\"b0\",\"c0\"]\n",
    "        ,[\"a1\",\"b1\",\"c1\"]\n",
    "        ,[\"a2\",\"b2\",\"c2\"]\n",
    "    ]\n",
    "    ,columns=[\"A\",\"B\",\"C\"]\n",
    ")\n",
    "df2 = pd.DataFrame(\n",
    "    [\n",
    "        [\"aa0\",\"b0\",\"cc0\"]\n",
    "        ,[\"a1\",\"b1\",\"c1\"]\n",
    "        \n",
    "    ] ,columns=[\"A\",\"B\",\"D\"]\n",
    ")\n",
    "df3= pd.merge(\n",
    "    left=df1,\n",
    "    right=df2,\n",
    "    how=\"outer\",\n",
    "      on=\"A\"\n",
    "      )\n",
    "print(df3)"
   ]
  },
  {
   "cell_type": "code",
   "execution_count": 15,
   "metadata": {},
   "outputs": [
    {
     "name": "stdout",
     "output_type": "stream",
     "text": [
      "True\n"
     ]
    }
   ],
   "source": [
    "import pandas as pd\n",
    "sr = pd.Series([34543543,4345345,5234234,234234],\n",
    "index=[\"서울\",\"대전\",\"대구\",\"부산\"])\n",
    "\n",
    "\n",
    "\n",
    "print(\"서울\" in sr)"
   ]
  },
  {
   "cell_type": "code",
   "execution_count": 21,
   "metadata": {},
   "outputs": [
    {
     "name": "stdout",
     "output_type": "stream",
     "text": [
      "서울 = 9904312\n",
      "부산 = 3448737\n",
      "인천 = 2890451\n",
      "대구 = 2466052\n"
     ]
    }
   ],
   "source": [
    "import pandas as pd\n",
    "\n",
    "s = pd.Series(\n",
    "    [9904312,3448737,2890451,2466052]\n",
    "    ,index=[\"서울\",\"부산\",\"인천\",\"대구\"] \n",
    ")\n",
    "for k, v in s.items():\n",
    "    print(\"%s = %d\" % (k,v))"
   ]
  },
  {
   "cell_type": "code",
   "execution_count": 33,
   "metadata": {},
   "outputs": [
    {
     "name": "stdout",
     "output_type": "stream",
     "text": [
      "    0   1   2\n",
      "0  13  14  15\n"
     ]
    }
   ],
   "source": [
    "import pandas as pd\n",
    "import numpy as np\n",
    "df= pd.DataFrame(\n",
    "    [\n",
    "        [13,14,15]\n",
    "        ,[\"s\",2,3]\n",
    "        ,[1,2,3]\n",
    "    ]\n",
    ")\n",
    "df2 = pd.DataFrame(np.arange(12).reshape(3,4))\n",
    "\n",
    "print(df[:1])"
   ]
  },
  {
   "cell_type": "code",
   "execution_count": 61,
   "metadata": {},
   "outputs": [
    {
     "name": "stdout",
     "output_type": "stream",
     "text": [
      "     국어  영어  수학    평균\n",
      "춘향   80  90  90  65.0\n",
      "몽룡   90  70  60  55.0\n",
      "향단   70  60  80  52.5\n",
      "사오정  30  40  70  35.0\n",
      "방자    0  80   0   0.0\n",
      "--------------------------\n",
      "춘향     90\n",
      "몽룡     60\n",
      "향단     80\n",
      "사오정    70\n",
      "Name: 수학, dtype: int64\n",
      "--------------------------\n",
      "    국어  영어  수학  평균\n",
      "춘향  80  90  90   0 <class 'pandas.core.frame.DataFrame'>\n",
      "--------------------------\n",
      "국어    70\n",
      "영어    60\n",
      "수학    80\n",
      "평균     0\n",
      "Name: 향단, dtype: int64 <class 'pandas.core.series.Series'>\n"
     ]
    },
    {
     "name": "stderr",
     "output_type": "stream",
     "text": [
      "C:\\Users\\kosmo\\AppData\\Local\\Temp\\ipykernel_7132\\3098143913.py:23: FutureWarning: Setting an item of incompatible dtype is deprecated and will raise in a future error of pandas. Value '52.5' has dtype incompatible with int64, please explicitly cast to a compatible dtype first.\n",
      "  df.iloc[i,3] = stu.mean()\n"
     ]
    }
   ],
   "source": [
    "import pandas as pd\n",
    "\n",
    "data = {\n",
    "    \"국어\":[80,90,70,30]\n",
    "    ,\"영어\":[90,70,60,40]\n",
    "    ,\"수학\":[90,60,80,70]\n",
    "    \n",
    "}\n",
    "columns = [\"국어\",\"영어\",\"수학\"]\n",
    "index = [\"춘향\",\"몽룡\",\"향단\",\"사오정\"]\n",
    "def wl():\n",
    "    print(\"--------------------------\")\n",
    "df= pd.DataFrame(data,index=index,columns=columns)\n",
    "matDf = df[\"수학\"]\n",
    "df[\"평균\"] = 0\n",
    "df.loc[\"방자\"] = [0,80,0,0]\n",
    "stuChunDf = df.loc[[\"춘향\"]]\n",
    "stuHyangDf = df.loc[\"향단\"]\n",
    "stuCnt = len(index)\n",
    "\n",
    "for i in range(stuCnt):\n",
    "    stu = df.iloc[i]\n",
    "    df.iloc[i,3] = stu.mean()\n",
    "\n",
    "\n",
    "\n",
    "print(df)\n",
    "wl()\n",
    "print(matDf)\n",
    "wl()\n",
    "print(StuChunDf,type(StuChunDf))\n",
    "wl()\n",
    "print(stuHyangDf,type(stuHyangDf ))"
   ]
  },
  {
   "cell_type": "code",
   "execution_count": null,
   "metadata": {},
   "outputs": [],
   "source": []
  },
  {
   "cell_type": "code",
   "execution_count": 67,
   "metadata": {},
   "outputs": [
    {
     "name": "stdout",
     "output_type": "stream",
     "text": [
      "Writing sample6.csv\n"
     ]
    }
   ],
   "source": [
    "import pandas as pd\n",
    "import numpy as np\n",
    "\n",
    "%%writefile sample6.csv\n",
    "data = [    [\"a1\",\"b1\",\"c1\",\"d1\",\"e1\"],\n",
    "    [\"a2\",\"b2\",\"c2\",\"d2\",\"e2\"],\n",
    "    [\"a3\",\"b3\",\"c3\",\"d3\",\"e3\"],\n",
    "    [\"a4\",\"b4\",\"c4\",\"d4\",\"e4\"],\n",
    "    [\"a5\",\"b5\",\"c5\",\"d5\",\"e5\"],]\n",
    "index = [1,2,3,4,5]\n",
    "columns = [\"a\",\"b\",\"c\",\"d\",\"e\"]\n",
    "\n",
    "\n",
    "df = pd.DataFrame(data,index=index,columns =columns\n",
    "\n",
    "\n",
    ")"
   ]
  },
  {
   "cell_type": "markdown",
   "metadata": {},
   "source": []
  },
  {
   "cell_type": "code",
   "execution_count": 89,
   "metadata": {},
   "outputs": [
    {
     "name": "stderr",
     "output_type": "stream",
     "text": [
      "UsageError: Line magic function `%%writefile` not found.\n"
     ]
    }
   ],
   "source": [
    "import pandas as pd\n",
    "import numpy as np\n",
    "\n"
   ]
  },
  {
   "cell_type": "code",
   "execution_count": 109,
   "metadata": {},
   "outputs": [
    {
     "data": {
      "text/plain": [
       "1    1.0\n",
       "2    2.2\n",
       "3    5.2\n",
       "4    4.2\n",
       "5    5.2\n",
       "dtype: float64"
      ]
     },
     "execution_count": 109,
     "metadata": {},
     "output_type": "execute_result"
    }
   ],
   "source": [
    "\n",
    "data = [    [\"1\",\"1\",\"1\",\"1\",\"e9\"],\n",
    "    [\"2\",\"3\",\"2\",\"2\",\"e8\"],\n",
    "    [\"3\",\"3\",\"3\",\"10\",\"e7\"],\n",
    "    [\"4\",\"4\",\"4\",\"4\",\"e5\"],\n",
    "    [\"5\",\"5\",\"5\",\"5\",\"e6\"],]\n",
    "\n",
    "data2 = [    [1,1,1,1,1],\n",
    "    [2,3,2,2,2],\n",
    "    [3,3,3,10,7],\n",
    "    [4,4,4,4,5],\n",
    "    [5,5,5,5,6],]\n",
    "index = [1,2,3,4,5]\n",
    "columns = [\"a\",\"b\",\"c\",\"d\",\"e\"]\n",
    "\n",
    "\n",
    "df = pd.DataFrame(data,index=index,columns =columns)\n",
    "df2 = pd.DataFrame(data2,index=index,columns =columns)\n",
    "\n",
    "\n",
    "\n",
    "\n",
    "df2.mean(axis=1)"
   ]
  },
  {
   "cell_type": "code",
   "execution_count": null,
   "metadata": {},
   "outputs": [],
   "source": [
    "import pandas as pd\n",
    "import numpy as np"
   ]
  },
  {
   "cell_type": "code",
   "execution_count": 76,
   "metadata": {},
   "outputs": [
    {
     "data": {
      "text/plain": [
       "a    5\n",
       "b    5\n",
       "c    5\n",
       "d    5\n",
       "e    5\n",
       "dtype: int64"
      ]
     },
     "execution_count": 76,
     "metadata": {},
     "output_type": "execute_result"
    }
   ],
   "source": [
    "df.to_csv('sample6.csv')\n",
    "df.count()"
   ]
  },
  {
   "cell_type": "code",
   "execution_count": 110,
   "metadata": {},
   "outputs": [
    {
     "data": {
      "text/plain": [
       "nan"
      ]
     },
     "execution_count": 110,
     "metadata": {},
     "output_type": "execute_result"
    }
   ],
   "source": [
    "import seaborn as sns\n",
    "titanic = sns.load_dataset(\"titanic\")\n",
    "titanic.head()\n",
    "titanic[:].count()\n",
    "np.random.seed(1)\n",
    "titanic.loc[(titanic['class']=='first')&(titanic.sex=='female')]['age'].mean()\n"
   ]
  },
  {
   "cell_type": "code",
   "execution_count": null,
   "metadata": {},
   "outputs": [],
   "source": []
  },
  {
   "cell_type": "markdown",
   "metadata": {},
   "source": []
  },
  {
   "cell_type": "code",
   "execution_count": null,
   "metadata": {},
   "outputs": [],
   "source": [
    "import pandas as pd\n",
    "import numpy as np\n",
    "\n",
    "df3= pd.DataFrame(\n",
    "    {\n",
    "        'a':[1,3,4,3,4],\n",
    "        'b':[1,5,4,13,4],\n",
    "        'c':[1,3,5,8,2]\n",
    "    }\n",
    ")"
   ]
  },
  {
   "cell_type": "markdown",
   "metadata": {},
   "source": []
  },
  {
   "cell_type": "code",
   "execution_count": 112,
   "metadata": {},
   "outputs": [
    {
     "name": "stdout",
     "output_type": "stream",
     "text": [
      "[0, 1, 2, 3, 4, 5, 6, 7, 8, 9, 10, 11, 12, 13, 14, 15, 16, 17, 18, 19, 20, 21, 22, 23, 24, 25, 26, 27, 28, 29]\n"
     ]
    }
   ],
   "source": [
    "list1 = list(range(30))\n",
    "print(list1)"
   ]
  }
 ],
 "metadata": {
  "kernelspec": {
   "display_name": "base",
   "language": "python",
   "name": "python3"
  },
  "language_info": {
   "codemirror_mode": {
    "name": "ipython",
    "version": 3
   },
   "file_extension": ".py",
   "mimetype": "text/x-python",
   "name": "python",
   "nbconvert_exporter": "python",
   "pygments_lexer": "ipython3",
   "version": "3.11.7"
  }
 },
 "nbformat": 4,
 "nbformat_minor": 2
}
